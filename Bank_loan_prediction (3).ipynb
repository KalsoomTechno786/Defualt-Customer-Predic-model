{
  "nbformat": 4,
  "nbformat_minor": 0,
  "metadata": {
    "colab": {
      "provenance": []
    },
    "kernelspec": {
      "name": "python3",
      "display_name": "Python 3"
    },
    "language_info": {
      "name": "python"
    }
  },
  "cells": [
    {
      "cell_type": "code",
      "execution_count": null,
      "metadata": {
        "id": "zXkdoWOROjX0"
      },
      "outputs": [],
      "source": [
        "import pandas as pd\n",
        "import numpy as np\n",
        "from sklearn.model_selection import train_test_split\n",
        "from sklearn.linear_model import LogisticRegression\n",
        "from sklearn.metrics import accuracy_score"
      ]
    },
    {
      "cell_type": "code",
      "source": [
        "df=pd.read_csv('/content/Task 3 and 4_Loan_Data.csv')\n",
        "print(df.head(3))"
      ],
      "metadata": {
        "colab": {
          "base_uri": "https://localhost:8080/"
        },
        "id": "EVkMJ5IJPBcn",
        "outputId": "1b29a6e2-9f30-4239-8f6e-d466c2c0ad88"
      },
      "execution_count": null,
      "outputs": [
        {
          "output_type": "stream",
          "name": "stdout",
          "text": [
            "   customer_id  credit_lines_outstanding  loan_amt_outstanding  \\\n",
            "0      8153374                         0           5221.545193   \n",
            "1      7442532                         5           1958.928726   \n",
            "2      2256073                         0           3363.009259   \n",
            "\n",
            "   total_debt_outstanding       income  years_employed  fico_score  default  \n",
            "0             3915.471226  78039.38546               5         605        0  \n",
            "1             8228.752520  26648.43525               2         572        1  \n",
            "2             2027.830850  65866.71246               4         602        0  \n"
          ]
        }
      ]
    },
    {
      "cell_type": "code",
      "source": [
        "#  delet customer-id column it is not  useful  variable for prediction model\n",
        "\n",
        "del df['customer_id']\n",
        "print(df.head(3))\n"
      ],
      "metadata": {
        "colab": {
          "base_uri": "https://localhost:8080/"
        },
        "id": "junAPIaqcVIS",
        "outputId": "302e8ba9-aedc-4829-8d1d-361b669eac71"
      },
      "execution_count": null,
      "outputs": [
        {
          "output_type": "stream",
          "name": "stdout",
          "text": [
            "   credit_lines_outstanding  loan_amt_outstanding  total_debt_outstanding  \\\n",
            "0                         0           5221.545193             3915.471226   \n",
            "1                         5           1958.928726             8228.752520   \n",
            "2                         0           3363.009259             2027.830850   \n",
            "\n",
            "        income  years_employed  fico_score  default  \n",
            "0  78039.38546               5         605        0  \n",
            "1  26648.43525               2         572        1  \n",
            "2  65866.71246               4         602        0  \n"
          ]
        }
      ]
    },
    {
      "cell_type": "code",
      "source": [
        "df.dtypes"
      ],
      "metadata": {
        "colab": {
          "base_uri": "https://localhost:8080/",
          "height": 304
        },
        "id": "mwRnHZvaiQ1m",
        "outputId": "ac309db8-9a21-4285-c218-8d5212e28f89"
      },
      "execution_count": null,
      "outputs": [
        {
          "output_type": "execute_result",
          "data": {
            "text/plain": [
              "credit_lines_outstanding      int64\n",
              "loan_amt_outstanding        float64\n",
              "total_debt_outstanding      float64\n",
              "income                      float64\n",
              "years_employed                int64\n",
              "fico_score                    int64\n",
              "default                       int64\n",
              "dtype: object"
            ],
            "text/html": [
              "<div>\n",
              "<style scoped>\n",
              "    .dataframe tbody tr th:only-of-type {\n",
              "        vertical-align: middle;\n",
              "    }\n",
              "\n",
              "    .dataframe tbody tr th {\n",
              "        vertical-align: top;\n",
              "    }\n",
              "\n",
              "    .dataframe thead th {\n",
              "        text-align: right;\n",
              "    }\n",
              "</style>\n",
              "<table border=\"1\" class=\"dataframe\">\n",
              "  <thead>\n",
              "    <tr style=\"text-align: right;\">\n",
              "      <th></th>\n",
              "      <th>0</th>\n",
              "    </tr>\n",
              "  </thead>\n",
              "  <tbody>\n",
              "    <tr>\n",
              "      <th>credit_lines_outstanding</th>\n",
              "      <td>int64</td>\n",
              "    </tr>\n",
              "    <tr>\n",
              "      <th>loan_amt_outstanding</th>\n",
              "      <td>float64</td>\n",
              "    </tr>\n",
              "    <tr>\n",
              "      <th>total_debt_outstanding</th>\n",
              "      <td>float64</td>\n",
              "    </tr>\n",
              "    <tr>\n",
              "      <th>income</th>\n",
              "      <td>float64</td>\n",
              "    </tr>\n",
              "    <tr>\n",
              "      <th>years_employed</th>\n",
              "      <td>int64</td>\n",
              "    </tr>\n",
              "    <tr>\n",
              "      <th>fico_score</th>\n",
              "      <td>int64</td>\n",
              "    </tr>\n",
              "    <tr>\n",
              "      <th>default</th>\n",
              "      <td>int64</td>\n",
              "    </tr>\n",
              "  </tbody>\n",
              "</table>\n",
              "</div><br><label><b>dtype:</b> object</label>"
            ]
          },
          "metadata": {},
          "execution_count": 4
        }
      ]
    },
    {
      "cell_type": "code",
      "source": [
        "#  how many rows and column in data\n",
        "\n",
        "df.shape\n"
      ],
      "metadata": {
        "colab": {
          "base_uri": "https://localhost:8080/"
        },
        "id": "2KnkG9uCiduA",
        "outputId": "4f977cec-61c4-4f33-c96b-41d8aab1b720"
      },
      "execution_count": null,
      "outputs": [
        {
          "output_type": "execute_result",
          "data": {
            "text/plain": [
              "(10000, 7)"
            ]
          },
          "metadata": {},
          "execution_count": 5
        }
      ]
    },
    {
      "cell_type": "code",
      "source": [
        "#logistic model develope for Bank default prediction\n",
        "import pandas as pd\n",
        "import numpy as np\n",
        "from sklearn.model_selection import train_test_split\n",
        "from sklearn.linear_model import LogisticRegression\n",
        "from sklearn.metrics import accuracy_score, classification_report, confusion_matrix\n",
        "\n",
        "\n",
        "# Feature selection (replace with actual relevant features)\n",
        "X = df.drop('default', axis=1)\n",
        "y = df['default']\n",
        "\n",
        "\n",
        "# Split data\n",
        "X_train, X_test, y_train, y_test = train_test_split(X, y, test_size=0.2, random_state=42)\n",
        "\n",
        "\n",
        "# Model training\n",
        "model = LogisticRegression()\n",
        "model.fit(X_train, y_train)\n",
        "\n",
        "# Predictions\n",
        "y_pred = model.predict(X_test)\n",
        "\n",
        "# Evaluate the model\n",
        "accuracy = accuracy_score(y_test,y_pred)\n",
        "print(f\"Accuracy: {accuracy}\")\n",
        "print(classification_report(y_test,y_pred))\n",
        "print(confusion_matrix(y_test,y_pred))\n",
        "# Check for loss situation\n",
        "if sum(y_pred == 0) > sum(y_pred == 1):\n",
        "    print(\"Loss situation: Save reserves\")\n",
        "else:\n",
        "    print(\"Good situation: Loan return\")\n"
      ],
      "metadata": {
        "colab": {
          "base_uri": "https://localhost:8080/"
        },
        "id": "iwjf39Xsd9vJ",
        "outputId": "0081cfa9-face-4086-a158-3d9b7d692d4d"
      },
      "execution_count": null,
      "outputs": [
        {
          "output_type": "stream",
          "name": "stdout",
          "text": [
            "Accuracy: 0.989\n",
            "              precision    recall  f1-score   support\n",
            "\n",
            "           0       0.99      1.00      0.99      1652\n",
            "           1       0.99      0.95      0.97       348\n",
            "\n",
            "    accuracy                           0.99      2000\n",
            "   macro avg       0.99      0.97      0.98      2000\n",
            "weighted avg       0.99      0.99      0.99      2000\n",
            "\n",
            "[[1647    5]\n",
            " [  17  331]]\n",
            "Loss situation: Save reserves\n"
          ]
        },
        {
          "output_type": "stream",
          "name": "stderr",
          "text": [
            "/usr/local/lib/python3.11/dist-packages/sklearn/linear_model/_logistic.py:465: ConvergenceWarning: lbfgs failed to converge (status=1):\n",
            "STOP: TOTAL NO. of ITERATIONS REACHED LIMIT.\n",
            "\n",
            "Increase the number of iterations (max_iter) or scale the data as shown in:\n",
            "    https://scikit-learn.org/stable/modules/preprocessing.html\n",
            "Please also refer to the documentation for alternative solver options:\n",
            "    https://scikit-learn.org/stable/modules/linear_model.html#logistic-regression\n",
            "  n_iter_i = _check_optimize_result(\n"
          ]
        }
      ]
    }
  ]
}